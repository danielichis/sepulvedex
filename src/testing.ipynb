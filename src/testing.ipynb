{
 "cells": [
  {
   "cell_type": "code",
   "execution_count": null,
   "metadata": {},
   "outputs": [],
   "source": [
    "from openpyxl import Workbook, load_workbook\n",
    "import smtplib\n",
    "from email.message import EmailMessage\n",
    "import ssl\n",
    "from pathlib import Path\n",
    "import os\n",
    "import sys\n",
    "\n",
    "class sendEmails:\n",
    "    def __init__(self):\n",
    "        self.msg = EmailMessage()\n",
    "        self.msg['Subject'] = 'Kardexs confrontados'\n",
    "        self.msg['From'] = 'Bot Sepúlveda'\n",
    "        self.msg['To'] = 'dchaconb@uni.pe'\n",
    "        self.currentPathFolder = self.getCurrentPath()\n",
    "\n",
    "        \n",
    "    \n",
    "       \n",
    "    def getCurrentPath(self):   \n",
    "        config_name = 'myapp.cfg'\n",
    "        # determine if application is a script file or frozen exe\n",
    "        if getattr(sys, 'frozen', False):\n",
    "            application_path = os.path.dirname(sys.executable)\n",
    "        elif __file__:\n",
    "            application_path = os.path.dirname(__file__)\n",
    "        application_path2 = Path(application_path)\n",
    "        return application_path2.absolute()\n",
    "\n",
    "\n",
    "    def send(self, docx):\n",
    "        docxPath = os.path.join(self.currentPathFolder, docx)\n",
    "        with open(docxPath, 'rb') as f:\n",
    "            file_data = f.read()\n",
    "            file_name = f.name\n",
    "            self.msg.add_attachment(file_data, maintype = 'application', subtype = 'docx', filename = file_name)\n",
    "\n",
    "        context = ssl.create_default_context()\n",
    "\n",
    "        with smtplib.SMTP_SSL('smtp.gmail.com', 465, context= context) as smtp:\n",
    "            smtp.login(\"sepulvedabot0@gmail.com\", \"fwmjcpowfrjiautv\")\n",
    "            smtp.send_message(self.msg)\n",
    "            smtp.quit()\n",
    "\n",
    "if __name__=='__main__':\n",
    "    x = sendEmails()\n",
    "    x.send('K42218-2.docx')"
   ]
  },
  {
   "cell_type": "code",
   "execution_count": null,
   "metadata": {},
   "outputs": [],
   "source": [
    "l=[]\n",
    "for i in l:\n",
    "    print(i)"
   ]
  },
  {
   "cell_type": "code",
   "execution_count": null,
   "metadata": {},
   "outputs": [],
   "source": [
    "import json\n",
    "  \n",
    "# Opening JSON file\n",
    "f = open('dataofPages.json')\n",
    "  \n",
    "# returns JSON object as \n",
    "# a dictionary\n",
    "data = json.load(f)\n",
    "  \n",
    "print(data)"
   ]
  },
  {
   "cell_type": "code",
   "execution_count": null,
   "metadata": {},
   "outputs": [],
   "source": [
    "import docx\n",
    "import re\n",
    "\n",
    "# Abrir el archivo DOCX y obtener el contenido XML\n",
    "doc=docx.Document(r\"C:\\DanielBots\\Sepulveda\\sepulvedex\\src\\daniel.docx\")\n",
    "xml = doc._element.xml\n",
    "pattern = re.compile(r\"daniel\")\n",
    "match = pattern.search(xml)\n",
    "\n",
    "# Si se encontró la palabra, agregar un elemento w:rPr con un atributo w:highlight\n",
    "if match:\n",
    "    start, end = match.span()\n",
    "    xml = xml[:start] + '<w:rPr><w:highlight w:val=\"yellow\"/></w:rPr>' + xml[start:end] + '</w:rPr>' + xml[end:]\n",
    "print(xml)\n",
    "# # Buscar la palabra \"hola\" en el contenido XML\n",
    "# pattern = re.compile(r\"hola\")\n",
    "# match = pattern.search(xml)\n",
    "\n",
    "# # Si se encontró la palabra, agregar un elemento w:rPr con un atributo w:highlight\n",
    "# if match:\n",
    "#     start, end = match.span()\n",
    "#     xml = xml[:start] + '<w:rPr><w:highlight w:val=\"yellow\"/></w:rPr>' + xml[start:end] + '</w:rPr>' + xml[end:]\n",
    "\n",
    "# # Guardar el contenido XML modificado en un nuevo archivo DOCX\n",
    "#doc.set_xml(xml)\n",
    "#doc.save(\"daniel2.docx\")\n",
    "\n",
    "\n",
    "\n"
   ]
  },
  {
   "cell_type": "code",
   "execution_count": null,
   "metadata": {},
   "outputs": [],
   "source": [
    "import docx\n",
    "from docx.oxml.ns import qn\n",
    "\n",
    "doc = docx.Document(\"daniel.docx\")\n",
    "paragraph = doc.paragraphs[0]\n",
    "bottom = paragraph.style._element.xpath(\"./w:pPr/w:pBdr/w:bottom\")[0]\n",
    "bottom.set(qn(\"w:color\"), \"FF00FF\")"
   ]
  },
  {
   "cell_type": "code",
   "execution_count": null,
   "metadata": {},
   "outputs": [],
   "source": [
    "import docx\n",
    "from docx.enum.text import WD_COLOR_INDEX\n",
    "#function to highlighted word in docx file \n",
    "def highlight_word(paragraph, word):\n",
    "    if paragraph.text.find(word) == -1:\n",
    "        return\n",
    "    print(paragraph.text)\n",
    "    texParragraph=paragraph.text\n",
    "    pattern=r\"(.*)%s(.*)\" % word\n",
    "    tbf=re.findall(pattern,texParragraph)[0][0]\n",
    "    tba=re.findall(pattern,texParragraph)[0][1]\n",
    "    paragraph.text = \"\"\n",
    "    paragraph.add_run(tbf)\n",
    "    paragraph.add_run(word).font.highlight_color = WD_COLOR_INDEX.YELLOW\n",
    "    paragraph.add_run(tba)\n",
    "\n",
    "doc=docx.Document(r\"C:\\DanielBots\\Sepulveda\\sepulvedex\\src\\daniel.docx\")\n",
    "for paragraph in doc.paragraphs:\n",
    "    highlight_word(paragraph, 'punto')\n",
    "    \n",
    "doc.save('daniel2.docx')"
   ]
  },
  {
   "cell_type": "code",
   "execution_count": null,
   "metadata": {},
   "outputs": [],
   "source": [
    "import docx\n",
    "\n",
    "document = docx.Document()\n",
    "\n",
    "paragraph1 = document.add_paragraph('text') # create new paragraph\n",
    "\n",
    "comment = paragraph.add_comment('comment',author='Obay Daba',initials= 'od') # add a comment on the entire paragraph\n",
    "\n",
    "paragraph2 = document.add_paragraph('text') # create another paragraph\n",
    "\n",
    "run = paragraph2.add_run('texty') #add a run to the paragraph\n",
    "\n",
    "run.add_comment('comment') # add a comment only for the run text\n",
    "\n",
    "paragraph.add_footnote('footnote text') # add a footnote\n",
    "\n",
    "document.save('test.docx')"
   ]
  },
  {
   "cell_type": "code",
   "execution_count": null,
   "metadata": {},
   "outputs": [],
   "source": [
    "#highlighting the text as a parameter in docx file\n",
    "import docx\n",
    "from docx.enum.text import WD_COLOR_INDEX\n",
    "def split_text(text, word):\n",
    "    pattern = re.compile(r'([\\S\\s]*)(\\b{})([\\S\\s]*)'.format(word))\n",
    "    #pattern = re.compile(r'[\\S\\s]*(\\d{8})[\\S\\s]*'.format(re.escape(word)))\n",
    "    match = pattern.search(text)\n",
    "    if match:\n",
    "        return match.groups()\n",
    "    return None\n",
    "def highlight_word(ruta, word):\n",
    "    doc=docx.Document(ruta)\n",
    "    for paragraph in doc.paragraphs:\n",
    "        texRun=run.text\n",
    "        numero='segundo'\n",
    "        descripction='Observacion de DNI'\n",
    "        before, word, after = split_text(texRun, numero)\n",
    "        run.text = \"\"\n",
    "        run.add_text(before)\n",
    "        paragraph.add_run().add_text(\"\")\n",
    "        run.add_comment(f'{descripction} No se encuentra en el documento',author='BOT CONFRONT')\n",
    "        paragraph.add_run().add_text(word)\n",
    "        run.font.highlight_color = WD_COLOR_INDEX.YELLOW\n",
    "        #run.add_text(word).font.highlight_color = WD_COLOR_INDEX.YELLOW\n",
    "        #paragraph.add_comment('Otra Observacion Encontrada',author='Observacion de DNI')\n",
    "        #paragraph.runs[2].font.highlight_color = WD_COLOR_INDEX.YELLOW\n",
    "        #run.add_comment('Otra Observacion Encontrada',author='Observacion de DNI')\n",
    "        paragraph.add_run().add_text(after)"
   ]
  },
  {
   "cell_type": "code",
   "execution_count": null,
   "metadata": {},
   "outputs": [],
   "source": [
    "import docx\n",
    "from docx.enum.text import WD_COLOR_INDEX\n",
    "\n",
    "doc = docx.Document(\"C:\\DanielBots\\Sepulveda\\sepulvedex\\Kardexs\\K42218.docx\")\n",
    "for p in doc.paragraphs:\n",
    "    for r in p.runs:       \n",
    "        if r.text.find('09750507') != -1:\n",
    "            print(r.text)\n",
    "            r.text=r.text.replace('09750507', '\\n\\n\\n09750507||||||||||||')\n",
    "            \n",
    "doc.save('daniel2.docx')"
   ]
  },
  {
   "cell_type": "code",
   "execution_count": null,
   "metadata": {},
   "outputs": [],
   "source": [
    "doc = docx.Document(\"daniel2.docx\")\n",
    "doc2 = docx.Document()\n",
    "pDelimiter = \"||||||||||||\"\n",
    "print(f\"cantidad de parrafos {len(doc.paragraphs)}\")\n",
    "for p in doc.paragraphs:\n",
    "    #print(p.text)\n",
    "    #print(\"------------------------\")\n",
    "    doc2.add_paragraph(p.text)\n",
    "    if p.text.find('09750507') != -1:\n",
    "        #print(p.text)\n",
    "        for r in p.runs:\n",
    "            if r.text.find('09750507') != -1:\n",
    "                doc2.add_paragraph()\n",
    "                pass\n",
    "print(f\"cantidad de parrafos {len(doc2.paragraphs)}\")\n",
    "doc2.save('daniel.docx')"
   ]
  },
  {
   "cell_type": "code",
   "execution_count": null,
   "metadata": {},
   "outputs": [],
   "source": [
    "import docx\n",
    "document = docx.Document(\"daniel.docx\")\n",
    "for section in document.sections:\n",
    "    for header in section.iter_header_objects():\n",
    "        print(header.text)"
   ]
  },
  {
   "cell_type": "code",
   "execution_count": 15,
   "metadata": {},
   "outputs": [
    {
     "name": "stdout",
     "output_type": "stream",
     "text": [
      "iguales\n"
     ]
    }
   ],
   "source": [
    "# get the header of page in .docx word using docx\n",
    "import re\n",
    "document = docx.Document(\"daniel.docx\")\n",
    "\n",
    "def getAllText(filename):\n",
    "    doc = docx.Document(filename)\n",
    "    fullText = []\n",
    "    for para in doc.paragraphs:\n",
    "        fullText.append(para.text)\n",
    "    return '\\n'.join(fullText)\n",
    "\n",
    "#print(getAllText(\"daniel.docx\"))\n",
    "x=re.findall(r'\\w+ MODIFICACION',getAllText(\"daniel.docx\"))\n",
    "if len(x)>0:\n",
    "    if x[0]==x[1]:\n",
    "        print(\"iguales\")\n",
    "    else:\n",
    "        print(\"diferentes\")"
   ]
  },
  {
   "cell_type": "code",
   "execution_count": null,
   "metadata": {},
   "outputs": [],
   "source": []
  }
 ],
 "metadata": {
  "kernelspec": {
   "display_name": "Python 3",
   "language": "python",
   "name": "python3"
  },
  "language_info": {
   "codemirror_mode": {
    "name": "ipython",
    "version": 3
   },
   "file_extension": ".py",
   "mimetype": "text/x-python",
   "name": "python",
   "nbconvert_exporter": "python",
   "pygments_lexer": "ipython3",
   "version": "3.10.5"
  },
  "orig_nbformat": 4,
  "vscode": {
   "interpreter": {
    "hash": "369f2c481f4da34e4445cda3fffd2e751bd1c4d706f27375911949ba6bb62e1c"
   }
  }
 },
 "nbformat": 4,
 "nbformat_minor": 2
}
