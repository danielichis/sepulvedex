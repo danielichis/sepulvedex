{
 "cells": [
  {
   "cell_type": "code",
   "execution_count": null,
   "metadata": {},
   "outputs": [],
   "source": [
    "from openpyxl import Workbook, load_workbook\n",
    "import smtplib\n",
    "from email.message import EmailMessage\n",
    "import ssl\n",
    "from pathlib import Path\n",
    "import os\n",
    "import sys\n",
    "\n",
    "class sendEmails:\n",
    "    def __init__(self):\n",
    "        self.msg = EmailMessage()\n",
    "        self.msg['Subject'] = 'Kardexs confrontados'\n",
    "        self.msg['From'] = 'Bot Sepúlveda'\n",
    "        self.msg['To'] = 'dchaconb@uni.pe'\n",
    "        self.currentPathFolder = self.getCurrentPath()\n",
    "\n",
    "        \n",
    "    \n",
    "       \n",
    "    def getCurrentPath(self):   \n",
    "        config_name = 'myapp.cfg'\n",
    "        # determine if application is a script file or frozen exe\n",
    "        if getattr(sys, 'frozen', False):\n",
    "            application_path = os.path.dirname(sys.executable)\n",
    "        elif __file__:\n",
    "            application_path = os.path.dirname(__file__)\n",
    "        application_path2 = Path(application_path)\n",
    "        return application_path2.absolute()\n",
    "\n",
    "\n",
    "    def send(self, docx):\n",
    "        docxPath = os.path.join(self.currentPathFolder, docx)\n",
    "        with open(docxPath, 'rb') as f:\n",
    "            file_data = f.read()\n",
    "            file_name = f.name\n",
    "            self.msg.add_attachment(file_data, maintype = 'application', subtype = 'docx', filename = file_name)\n",
    "\n",
    "        context = ssl.create_default_context()\n",
    "\n",
    "        with smtplib.SMTP_SSL('smtp.gmail.com', 465, context= context) as smtp:\n",
    "            smtp.login(\"sepulvedabot0@gmail.com\", \"fwmjcpowfrjiautv\")\n",
    "            smtp.send_message(self.msg)\n",
    "            smtp.quit()\n",
    "\n",
    "if __name__=='__main__':\n",
    "    x = sendEmails()\n",
    "    x.send('K42218-2.docx')"
   ]
  },
  {
   "cell_type": "code",
   "execution_count": null,
   "metadata": {},
   "outputs": [],
   "source": [
    "l=[]\n",
    "for i in l:\n",
    "    print(i)"
   ]
  },
  {
   "cell_type": "code",
   "execution_count": null,
   "metadata": {},
   "outputs": [],
   "source": []
  }
 ],
 "metadata": {
  "kernelspec": {
   "display_name": "Python 3.10.8 64-bit (microsoft store)",
   "language": "python",
   "name": "python3"
  },
  "language_info": {
   "codemirror_mode": {
    "name": "ipython",
    "version": 3
   },
   "file_extension": ".py",
   "mimetype": "text/x-python",
   "name": "python",
   "nbconvert_exporter": "python",
   "pygments_lexer": "ipython3",
   "version": "3.10.8"
  },
  "orig_nbformat": 4,
  "vscode": {
   "interpreter": {
    "hash": "236c72110e8f9ed6163c9c143aaf7bc7525128a2c97d4d22921523ff614e948a"
   }
  }
 },
 "nbformat": 4,
 "nbformat_minor": 2
}
