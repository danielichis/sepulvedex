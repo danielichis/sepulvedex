{
 "cells": [
  {
   "cell_type": "code",
   "execution_count": 5,
   "metadata": {},
   "outputs": [
    {
     "ename": "NameError",
     "evalue": "name '__file__' is not defined",
     "output_type": "error",
     "traceback": [
      "\u001b[1;31m---------------------------------------------------------------------------\u001b[0m",
      "\u001b[1;31mNameError\u001b[0m                                 Traceback (most recent call last)",
      "Cell \u001b[1;32mIn [5], line 46\u001b[0m\n\u001b[0;32m     43\u001b[0m             smtp\u001b[39m.\u001b[39mquit()\n\u001b[0;32m     45\u001b[0m \u001b[39mif\u001b[39;00m \u001b[39m__name__\u001b[39m\u001b[39m==\u001b[39m\u001b[39m'\u001b[39m\u001b[39m__main__\u001b[39m\u001b[39m'\u001b[39m:\n\u001b[1;32m---> 46\u001b[0m     x \u001b[39m=\u001b[39m sendEmails()\n\u001b[0;32m     47\u001b[0m     x\u001b[39m.\u001b[39msend(\u001b[39m'\u001b[39m\u001b[39mK42218-2.docx\u001b[39m\u001b[39m'\u001b[39m)\n",
      "Cell \u001b[1;32mIn [5], line 15\u001b[0m, in \u001b[0;36msendEmails.__init__\u001b[1;34m(self)\u001b[0m\n\u001b[0;32m     13\u001b[0m \u001b[39mself\u001b[39m\u001b[39m.\u001b[39mmsg[\u001b[39m'\u001b[39m\u001b[39mFrom\u001b[39m\u001b[39m'\u001b[39m] \u001b[39m=\u001b[39m \u001b[39m'\u001b[39m\u001b[39mBot Sepúlveda\u001b[39m\u001b[39m'\u001b[39m\n\u001b[0;32m     14\u001b[0m \u001b[39mself\u001b[39m\u001b[39m.\u001b[39mmsg[\u001b[39m'\u001b[39m\u001b[39mTo\u001b[39m\u001b[39m'\u001b[39m] \u001b[39m=\u001b[39m \u001b[39m'\u001b[39m\u001b[39mdchaconb@uni.pe\u001b[39m\u001b[39m'\u001b[39m\n\u001b[1;32m---> 15\u001b[0m \u001b[39mself\u001b[39m\u001b[39m.\u001b[39mcurrentPathFolder \u001b[39m=\u001b[39m \u001b[39mself\u001b[39;49m\u001b[39m.\u001b[39;49mgetCurrentPath()\n",
      "Cell \u001b[1;32mIn [5], line 25\u001b[0m, in \u001b[0;36msendEmails.getCurrentPath\u001b[1;34m(self)\u001b[0m\n\u001b[0;32m     23\u001b[0m \u001b[39mif\u001b[39;00m \u001b[39mgetattr\u001b[39m(sys, \u001b[39m'\u001b[39m\u001b[39mfrozen\u001b[39m\u001b[39m'\u001b[39m, \u001b[39mFalse\u001b[39;00m):\n\u001b[0;32m     24\u001b[0m     application_path \u001b[39m=\u001b[39m os\u001b[39m.\u001b[39mpath\u001b[39m.\u001b[39mdirname(sys\u001b[39m.\u001b[39mexecutable)\n\u001b[1;32m---> 25\u001b[0m \u001b[39melif\u001b[39;00m \u001b[39m__file__\u001b[39;49m:\n\u001b[0;32m     26\u001b[0m     application_path \u001b[39m=\u001b[39m os\u001b[39m.\u001b[39mpath\u001b[39m.\u001b[39mdirname(\u001b[39m__file__\u001b[39m)\n\u001b[0;32m     27\u001b[0m application_path2 \u001b[39m=\u001b[39m Path(application_path)\n",
      "\u001b[1;31mNameError\u001b[0m: name '__file__' is not defined"
     ]
    }
   ],
   "source": [
    "from openpyxl import Workbook, load_workbook\n",
    "import smtplib\n",
    "from email.message import EmailMessage\n",
    "import ssl\n",
    "from pathlib import Path\n",
    "import os\n",
    "import sys\n",
    "\n",
    "class sendEmails:\n",
    "    def __init__(self):\n",
    "        self.msg = EmailMessage()\n",
    "        self.msg['Subject'] = 'Kardexs confrontados'\n",
    "        self.msg['From'] = 'Bot Sepúlveda'\n",
    "        self.msg['To'] = 'dchaconb@uni.pe'\n",
    "        self.currentPathFolder = self.getCurrentPath()\n",
    "\n",
    "        \n",
    "    \n",
    "       \n",
    "    def getCurrentPath(self):   \n",
    "        config_name = 'myapp.cfg'\n",
    "        # determine if application is a script file or frozen exe\n",
    "        if getattr(sys, 'frozen', False):\n",
    "            application_path = os.path.dirname(sys.executable)\n",
    "        elif __file__:\n",
    "            application_path = os.path.dirname(__file__)\n",
    "        application_path2 = Path(application_path)\n",
    "        return application_path2.absolute()\n",
    "\n",
    "\n",
    "    def send(self, docx):\n",
    "        docxPath = os.path.join(self.currentPathFolder, docx)\n",
    "        with open(docxPath, 'rb') as f:\n",
    "            file_data = f.read()\n",
    "            file_name = f.name\n",
    "            self.msg.add_attachment(file_data, maintype = 'application', subtype = 'docx', filename = file_name)\n",
    "\n",
    "        context = ssl.create_default_context()\n",
    "\n",
    "        with smtplib.SMTP_SSL('smtp.gmail.com', 465, context= context) as smtp:\n",
    "            smtp.login(\"sepulvedabot0@gmail.com\", \"fwmjcpowfrjiautv\")\n",
    "            smtp.send_message(self.msg)\n",
    "            smtp.quit()\n",
    "\n",
    "if __name__=='__main__':\n",
    "    x = sendEmails()\n",
    "    x.send('K42218-2.docx')"
   ]
  },
  {
   "cell_type": "code",
   "execution_count": null,
   "metadata": {},
   "outputs": [],
   "source": []
  }
 ],
 "metadata": {
  "kernelspec": {
   "display_name": "Python 3",
   "language": "python",
   "name": "python3"
  },
  "language_info": {
   "codemirror_mode": {
    "name": "ipython",
    "version": 3
   },
   "file_extension": ".py",
   "mimetype": "text/x-python",
   "name": "python",
   "nbconvert_exporter": "python",
   "pygments_lexer": "ipython3",
   "version": "3.10.8"
  },
  "orig_nbformat": 4,
  "vscode": {
   "interpreter": {
    "hash": "43973268aa23c7cf4b4cafe0e819fac9b2412fcc991a21988492c3271a4e3f9b"
   }
  }
 },
 "nbformat": 4,
 "nbformat_minor": 2
}
