{
 "cells": [
  {
   "cell_type": "code",
   "execution_count": 72,
   "metadata": {},
   "outputs": [],
   "source": [
    "import docx\n",
    "import re\n",
    "from docx.enum.text import WD_COLOR_INDEX\n",
    "doc=docx.Document(r'C:\\DanielBots\\Sepulveda\\sepulvedex\\src\\daniel.docx')\n",
    "def split_text(text, word):\n",
    "    pattern = re.compile(r'([\\S\\s]*)(\\b{})([\\S\\s]*)'.format(word))\n",
    "    match = pattern.search(text)\n",
    "    if match:\n",
    "        return match.groups()\n",
    "    return None\n",
    "def split_Runs(doc,word):\n",
    "    for p in doc.paragraphs:\n",
    "        if p.text.find(word) != -1:\n",
    "            virtualRuns=p.runs\n",
    "            p.text = \"\"\n",
    "            for r in virtualRuns:\n",
    "                if r.text.find(word) != -1:\n",
    "                    before, word, after = split_text(r.text, word)\n",
    "                    p.add_run(before)\n",
    "                    p.add_run()\n",
    "                    p.add_run(word)\n",
    "                    p.add_run(after)\n",
    "                else:\n",
    "                    p.add_run(r.text)\n",
    "    return doc\n",
    "    \n",
    "def style_Token(doc,word,comment=True):\n",
    "    for p in doc.paragraphs:\n",
    "        for i,r in enumerate(p.runs):\n",
    "            if p.runs[i].text.find(word) != -1:\n",
    "                p.runs[i].font.highlight_color = WD_COLOR_INDEX.YELLOW\n",
    "                if comment:\n",
    "                    p.runs[i-1].add_comment(f'{word} No se encuentra en el documento',author='BOT CONFRONT')\n",
    "                    #r.add_comment(f'{word} No se encuentra en el documento',author='BOT CONFRONT')\n",
    "    return doc\n",
    "nums=['10231244','48023851','20104802385']\n",
    "for num in nums:\n",
    "    doc=split_Runs(doc,num)\n",
    "for num in nums:\n",
    "    doc=style_Token(doc,num,True)\n",
    "doc.save(r'C:\\DanielBots\\Sepulveda\\sepulvedex\\src\\daniel2.docx')"
   ]
  }
 ],
 "metadata": {
  "kernelspec": {
   "display_name": "Python 3",
   "language": "python",
   "name": "python3"
  },
  "language_info": {
   "codemirror_mode": {
    "name": "ipython",
    "version": 3
   },
   "file_extension": ".py",
   "mimetype": "text/x-python",
   "name": "python",
   "nbconvert_exporter": "python",
   "pygments_lexer": "ipython3",
   "version": "3.10.8 (tags/v3.10.8:aaaf517, Oct 11 2022, 16:50:30) [MSC v.1933 64 bit (AMD64)]"
  },
  "orig_nbformat": 4,
  "vscode": {
   "interpreter": {
    "hash": "43973268aa23c7cf4b4cafe0e819fac9b2412fcc991a21988492c3271a4e3f9b"
   }
  }
 },
 "nbformat": 4,
 "nbformat_minor": 2
}
