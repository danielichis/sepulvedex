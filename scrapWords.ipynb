{
 "cells": [
  {
   "cell_type": "code",
   "execution_count": 5,
   "metadata": {},
   "outputs": [
    {
     "ename": "PackageNotFoundError",
     "evalue": "Package not found at 'G3463-CONF..docx'",
     "output_type": "error",
     "traceback": [
      "\u001b[1;31m---------------------------------------------------------------------------\u001b[0m",
      "\u001b[1;31mPackageNotFoundError\u001b[0m                      Traceback (most recent call last)",
      "Cell \u001b[1;32mIn [5], line 9\u001b[0m\n\u001b[0;32m      7\u001b[0m         f\u001b[39m=\u001b[39mos\u001b[39m.\u001b[39mpath\u001b[39m.\u001b[39mjoin(\u001b[39m\"\u001b[39m\u001b[39m\"\u001b[39m,file)\n\u001b[0;32m      8\u001b[0m         listwords\u001b[39m.\u001b[39mappend(f)\n\u001b[1;32m----> 9\u001b[0m word\u001b[39m=\u001b[39mdocx\u001b[39m.\u001b[39;49mDocument(listwords[\u001b[39m0\u001b[39;49m])\n\u001b[0;32m     10\u001b[0m \u001b[39mfor\u001b[39;00m para \u001b[39min\u001b[39;00m word\u001b[39m.\u001b[39mparagraphs:\n\u001b[0;32m     11\u001b[0m     \u001b[39mprint\u001b[39m(para\u001b[39m.\u001b[39mtext)\n",
      "File \u001b[1;32mc:\\Python310\\lib\\site-packages\\docx\\api.py:25\u001b[0m, in \u001b[0;36mDocument\u001b[1;34m(docx)\u001b[0m\n\u001b[0;32m     18\u001b[0m \u001b[39m\"\"\"\u001b[39;00m\n\u001b[0;32m     19\u001b[0m \u001b[39mReturn a |Document| object loaded from *docx*, where *docx* can be\u001b[39;00m\n\u001b[0;32m     20\u001b[0m \u001b[39meither a path to a ``.docx`` file (a string) or a file-like object. If\u001b[39;00m\n\u001b[0;32m     21\u001b[0m \u001b[39m*docx* is missing or ``None``, the built-in default document \"template\"\u001b[39;00m\n\u001b[0;32m     22\u001b[0m \u001b[39mis loaded.\u001b[39;00m\n\u001b[0;32m     23\u001b[0m \u001b[39m\"\"\"\u001b[39;00m\n\u001b[0;32m     24\u001b[0m docx \u001b[39m=\u001b[39m _default_docx_path() \u001b[39mif\u001b[39;00m docx \u001b[39mis\u001b[39;00m \u001b[39mNone\u001b[39;00m \u001b[39melse\u001b[39;00m docx\n\u001b[1;32m---> 25\u001b[0m document_part \u001b[39m=\u001b[39m Package\u001b[39m.\u001b[39;49mopen(docx)\u001b[39m.\u001b[39mmain_document_part\n\u001b[0;32m     26\u001b[0m \u001b[39mif\u001b[39;00m document_part\u001b[39m.\u001b[39mcontent_type \u001b[39m!=\u001b[39m CT\u001b[39m.\u001b[39mWML_DOCUMENT_MAIN:\n\u001b[0;32m     27\u001b[0m     tmpl \u001b[39m=\u001b[39m \u001b[39m\"\u001b[39m\u001b[39mfile \u001b[39m\u001b[39m'\u001b[39m\u001b[39m%s\u001b[39;00m\u001b[39m'\u001b[39m\u001b[39m is not a Word file, content type is \u001b[39m\u001b[39m'\u001b[39m\u001b[39m%s\u001b[39;00m\u001b[39m'\u001b[39m\u001b[39m\"\u001b[39m\n",
      "File \u001b[1;32mc:\\Python310\\lib\\site-packages\\docx\\opc\\package.py:128\u001b[0m, in \u001b[0;36mOpcPackage.open\u001b[1;34m(cls, pkg_file)\u001b[0m\n\u001b[0;32m    122\u001b[0m \u001b[39m@classmethod\u001b[39m\n\u001b[0;32m    123\u001b[0m \u001b[39mdef\u001b[39;00m \u001b[39mopen\u001b[39m(\u001b[39mcls\u001b[39m, pkg_file):\n\u001b[0;32m    124\u001b[0m     \u001b[39m\"\"\"\u001b[39;00m\n\u001b[0;32m    125\u001b[0m \u001b[39m    Return an |OpcPackage| instance loaded with the contents of\u001b[39;00m\n\u001b[0;32m    126\u001b[0m \u001b[39m    *pkg_file*.\u001b[39;00m\n\u001b[0;32m    127\u001b[0m \u001b[39m    \"\"\"\u001b[39;00m\n\u001b[1;32m--> 128\u001b[0m     pkg_reader \u001b[39m=\u001b[39m PackageReader\u001b[39m.\u001b[39;49mfrom_file(pkg_file)\n\u001b[0;32m    129\u001b[0m     package \u001b[39m=\u001b[39m \u001b[39mcls\u001b[39m()\n\u001b[0;32m    130\u001b[0m     Unmarshaller\u001b[39m.\u001b[39munmarshal(pkg_reader, package, PartFactory)\n",
      "File \u001b[1;32mc:\\Python310\\lib\\site-packages\\docx\\opc\\pkgreader.py:32\u001b[0m, in \u001b[0;36mPackageReader.from_file\u001b[1;34m(pkg_file)\u001b[0m\n\u001b[0;32m     27\u001b[0m \u001b[39m@staticmethod\u001b[39m\n\u001b[0;32m     28\u001b[0m \u001b[39mdef\u001b[39;00m \u001b[39mfrom_file\u001b[39m(pkg_file):\n\u001b[0;32m     29\u001b[0m     \u001b[39m\"\"\"\u001b[39;00m\n\u001b[0;32m     30\u001b[0m \u001b[39m    Return a |PackageReader| instance loaded with contents of *pkg_file*.\u001b[39;00m\n\u001b[0;32m     31\u001b[0m \u001b[39m    \"\"\"\u001b[39;00m\n\u001b[1;32m---> 32\u001b[0m     phys_reader \u001b[39m=\u001b[39m PhysPkgReader(pkg_file)\n\u001b[0;32m     33\u001b[0m     content_types \u001b[39m=\u001b[39m _ContentTypeMap\u001b[39m.\u001b[39mfrom_xml(phys_reader\u001b[39m.\u001b[39mcontent_types_xml)\n\u001b[0;32m     34\u001b[0m     pkg_srels \u001b[39m=\u001b[39m PackageReader\u001b[39m.\u001b[39m_srels_for(phys_reader, PACKAGE_URI)\n",
      "File \u001b[1;32mc:\\Python310\\lib\\site-packages\\docx\\opc\\phys_pkg.py:30\u001b[0m, in \u001b[0;36mPhysPkgReader.__new__\u001b[1;34m(cls, pkg_file)\u001b[0m\n\u001b[0;32m     28\u001b[0m         reader_cls \u001b[39m=\u001b[39m _ZipPkgReader\n\u001b[0;32m     29\u001b[0m     \u001b[39melse\u001b[39;00m:\n\u001b[1;32m---> 30\u001b[0m         \u001b[39mraise\u001b[39;00m PackageNotFoundError(\n\u001b[0;32m     31\u001b[0m             \u001b[39m\"\u001b[39m\u001b[39mPackage not found at \u001b[39m\u001b[39m'\u001b[39m\u001b[39m%s\u001b[39;00m\u001b[39m'\u001b[39m\u001b[39m\"\u001b[39m \u001b[39m%\u001b[39m pkg_file\n\u001b[0;32m     32\u001b[0m         )\n\u001b[0;32m     33\u001b[0m \u001b[39melse\u001b[39;00m:  \u001b[39m# assume it's a stream and pass it to Zip reader to sort out\u001b[39;00m\n\u001b[0;32m     34\u001b[0m     reader_cls \u001b[39m=\u001b[39m _ZipPkgReader\n",
      "\u001b[1;31mPackageNotFoundError\u001b[0m: Package not found at 'G3463-CONF..docx'"
     ]
    }
   ],
   "source": [
    "import docx\n",
    "import os\n",
    "listwords=[]\n",
    "folderPath = 'C:\\DanielBots\\Sepulveda\\Documentación\\Documentos confrontados'\n",
    "for file in os.listdir(folderPath):\n",
    "    if file.endswith('.docx'):\n",
    "        f=os.path.join(folderPath,file)\n",
    "        listwords.append(f)\n",
    "word=docx.Document(listwords[0])\n",
    "for para in word.paragraphs:\n",
    "    print(para.text)\n",
    "    print('------------------')"
   ]
  },
  {
   "cell_type": "code",
   "execution_count": 3,
   "metadata": {},
   "outputs": [
    {
     "name": "stdout",
     "output_type": "stream",
     "text": [
      "['G3463-CONF..docx', 'G3628-CONF..docx', 'G3632-CONF..docx', 'K44335-CONF..docx', 'K44404-CONF..docx', 'K44562-CONF..docx', 'K44577-CONF..docx']\n"
     ]
    }
   ],
   "source": [
    "#join path and file\n",
    "os.pa"
   ]
  },
  {
   "cell_type": "code",
   "execution_count": null,
   "metadata": {},
   "outputs": [],
   "source": []
  }
 ],
 "metadata": {
  "kernelspec": {
   "display_name": "Python 3.10.5 64-bit",
   "language": "python",
   "name": "python3"
  },
  "language_info": {
   "codemirror_mode": {
    "name": "ipython",
    "version": 3
   },
   "file_extension": ".py",
   "mimetype": "text/x-python",
   "name": "python",
   "nbconvert_exporter": "python",
   "pygments_lexer": "ipython3",
   "version": "3.10.5"
  },
  "orig_nbformat": 4,
  "vscode": {
   "interpreter": {
    "hash": "369f2c481f4da34e4445cda3fffd2e751bd1c4d706f27375911949ba6bb62e1c"
   }
  }
 },
 "nbformat": 4,
 "nbformat_minor": 2
}
